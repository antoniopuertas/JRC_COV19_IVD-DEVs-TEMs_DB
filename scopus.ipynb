{
 "cells": [
  {
   "cell_type": "code",
   "execution_count": 1,
   "metadata": {},
   "outputs": [],
   "source": [
    "import json\n",
    "import warnings\n",
    "import pyarrow as pa\n",
    "from pyarrow import csv\n",
    "import pandas as pd\n",
    "import os\n",
    "import sys"
   ]
  },
  {
   "cell_type": "code",
   "execution_count": null,
   "metadata": {},
   "outputs": [],
   "source": [
    "local_directory = os.getcwd()\n",
    "print(local_directory)"
   ]
  },
  {
   "cell_type": "code",
   "execution_count": 4,
   "metadata": {},
   "outputs": [
    {
     "data": {
      "text/plain": [
       "Index(['Authors', 'Author(s) ID', 'Title', 'Year', 'Source title', 'Volume',\n",
       "       'Issue', 'Art. No.', 'Page start', 'Page end', 'Page count', 'Cited by',\n",
       "       'DOI', 'Link', 'Abstract', 'Author Keywords', 'Index Keywords',\n",
       "       'PubMed ID', 'Abbreviated Source Title', 'Document Type',\n",
       "       'Publication Stage', 'Access Type', 'Source', 'EID'],\n",
       "      dtype='object')"
      ]
     },
     "execution_count": 4,
     "metadata": {},
     "output_type": "execute_result"
    }
   ],
   "source": [
    "paper_source_scopus = 'source_files/scopus/scopus.csv'\n",
    "data1 = pd.read_csv(paper_source_scopus)\n",
    "data1.keys()"
   ]
  },
  {
   "cell_type": "code",
   "execution_count": 3,
   "metadata": {},
   "outputs": [
    {
     "data": {
      "text/html": [
       "<div>\n",
       "<style scoped>\n",
       "    .dataframe tbody tr th:only-of-type {\n",
       "        vertical-align: middle;\n",
       "    }\n",
       "\n",
       "    .dataframe tbody tr th {\n",
       "        vertical-align: top;\n",
       "    }\n",
       "\n",
       "    .dataframe thead th {\n",
       "        text-align: right;\n",
       "    }\n",
       "</style>\n",
       "<table border=\"1\" class=\"dataframe\">\n",
       "  <thead>\n",
       "    <tr style=\"text-align: right;\">\n",
       "      <th></th>\n",
       "      <th>Authors</th>\n",
       "      <th>Author(s) ID</th>\n",
       "      <th>Title</th>\n",
       "      <th>Year</th>\n",
       "      <th>Source title</th>\n",
       "      <th>Volume</th>\n",
       "      <th>Issue</th>\n",
       "      <th>Art. No.</th>\n",
       "      <th>Page start</th>\n",
       "      <th>Page end</th>\n",
       "      <th>...</th>\n",
       "      <th>Abstract</th>\n",
       "      <th>Author Keywords</th>\n",
       "      <th>Index Keywords</th>\n",
       "      <th>PubMed ID</th>\n",
       "      <th>Abbreviated Source Title</th>\n",
       "      <th>Document Type</th>\n",
       "      <th>Publication Stage</th>\n",
       "      <th>Access Type</th>\n",
       "      <th>Source</th>\n",
       "      <th>EID</th>\n",
       "    </tr>\n",
       "  </thead>\n",
       "  <tbody>\n",
       "    <tr>\n",
       "      <th>0</th>\n",
       "      <td>Abalo-Lojo J.M., Pouso-Diz J.M., Gonzalez F.</td>\n",
       "      <td>16303329400;57213187030;35777852900;</td>\n",
       "      <td>Taste and Smell Dysfunction in COVID-19 Patients</td>\n",
       "      <td>2020</td>\n",
       "      <td>Annals of Otology, Rhinology and Laryngology</td>\n",
       "      <td>NaN</td>\n",
       "      <td>NaN</td>\n",
       "      <td>NaN</td>\n",
       "      <td>NaN</td>\n",
       "      <td>NaN</td>\n",
       "      <td>...</td>\n",
       "      <td>[No abstract available]</td>\n",
       "      <td>NaN</td>\n",
       "      <td>NaN</td>\n",
       "      <td>32468830.0</td>\n",
       "      <td>Ann. Otol. Rhinol. Laryngol.</td>\n",
       "      <td>Letter</td>\n",
       "      <td>Article in Press</td>\n",
       "      <td>Open Access</td>\n",
       "      <td>Scopus</td>\n",
       "      <td>2-s2.0-85086172211</td>\n",
       "    </tr>\n",
       "    <tr>\n",
       "      <th>1</th>\n",
       "      <td>Abassi Z., Knaney Y., Karram T., Heyman S.N.</td>\n",
       "      <td>7005374385;57217213627;8772938900;36808031100;</td>\n",
       "      <td>The Lung Macrophage in SARS-CoV-2 Infection: A...</td>\n",
       "      <td>2020</td>\n",
       "      <td>Frontiers in Immunology</td>\n",
       "      <td>11</td>\n",
       "      <td>NaN</td>\n",
       "      <td>1312</td>\n",
       "      <td>NaN</td>\n",
       "      <td>NaN</td>\n",
       "      <td>...</td>\n",
       "      <td>Respiratory, circulatory, and renal failure ar...</td>\n",
       "      <td>ACE2; acute respiratory distress syndrome; def...</td>\n",
       "      <td>angiotensin converting enzyme 2; angiotensin[1...</td>\n",
       "      <td>32582222.0</td>\n",
       "      <td>Front. Immunol.</td>\n",
       "      <td>Article</td>\n",
       "      <td>Final</td>\n",
       "      <td>Open Access</td>\n",
       "      <td>Scopus</td>\n",
       "      <td>2-s2.0-85086787954</td>\n",
       "    </tr>\n",
       "  </tbody>\n",
       "</table>\n",
       "<p>2 rows × 24 columns</p>\n",
       "</div>"
      ],
      "text/plain": [
       "                                        Authors  \\\n",
       "0  Abalo-Lojo J.M., Pouso-Diz J.M., Gonzalez F.   \n",
       "1  Abassi Z., Knaney Y., Karram T., Heyman S.N.   \n",
       "\n",
       "                                     Author(s) ID  \\\n",
       "0            16303329400;57213187030;35777852900;   \n",
       "1  7005374385;57217213627;8772938900;36808031100;   \n",
       "\n",
       "                                               Title  Year  \\\n",
       "0   Taste and Smell Dysfunction in COVID-19 Patients  2020   \n",
       "1  The Lung Macrophage in SARS-CoV-2 Infection: A...  2020   \n",
       "\n",
       "                                   Source title Volume Issue Art. No.  \\\n",
       "0  Annals of Otology, Rhinology and Laryngology    NaN   NaN      NaN   \n",
       "1                       Frontiers in Immunology     11   NaN     1312   \n",
       "\n",
       "  Page start Page end  ...                                           Abstract  \\\n",
       "0        NaN      NaN  ...                            [No abstract available]   \n",
       "1        NaN      NaN  ...  Respiratory, circulatory, and renal failure ar...   \n",
       "\n",
       "                                     Author Keywords  \\\n",
       "0                                                NaN   \n",
       "1  ACE2; acute respiratory distress syndrome; def...   \n",
       "\n",
       "                                      Index Keywords   PubMed ID  \\\n",
       "0                                                NaN  32468830.0   \n",
       "1  angiotensin converting enzyme 2; angiotensin[1...  32582222.0   \n",
       "\n",
       "       Abbreviated Source Title Document Type Publication Stage  Access Type  \\\n",
       "0  Ann. Otol. Rhinol. Laryngol.        Letter  Article in Press  Open Access   \n",
       "1               Front. Immunol.       Article             Final  Open Access   \n",
       "\n",
       "   Source                 EID  \n",
       "0  Scopus  2-s2.0-85086172211  \n",
       "1  Scopus  2-s2.0-85086787954  \n",
       "\n",
       "[2 rows x 24 columns]"
      ]
     },
     "execution_count": 3,
     "metadata": {},
     "output_type": "execute_result"
    }
   ],
   "source": [
    "#df3_02 = pd.DataFrame(data1)\n",
    "#df3_02.head(2)"
   ]
  },
  {
   "cell_type": "code",
   "execution_count": 5,
   "metadata": {},
   "outputs": [],
   "source": [
    "table = csv.read_csv(paper_source_scopus)\n",
    "df3_02 = table.to_pandas()"
   ]
  },
  {
   "cell_type": "code",
   "execution_count": 6,
   "metadata": {},
   "outputs": [
    {
     "data": {
      "text/plain": [
       "(4297, 24)"
      ]
     },
     "execution_count": 6,
     "metadata": {},
     "output_type": "execute_result"
    }
   ],
   "source": [
    "df3_02.shape"
   ]
  },
  {
   "cell_type": "code",
   "execution_count": 8,
   "metadata": {},
   "outputs": [
    {
     "data": {
      "text/plain": [
       "(1828, 24)"
      ]
     },
     "execution_count": 8,
     "metadata": {},
     "output_type": "execute_result"
    }
   ],
   "source": [
    "with open('aux_txt_files/values_methods.txt', 'r') as read_data:\n",
    "    search_values_input = read_data.read().splitlines()\n",
    "read_data.close()\n",
    "df3_03 = df3_02.sort_values(by='Abstract', ascending=False)\n",
    "df3_3_1 = df3_03[df3_03['Abstract'].str.contains('|'.join(search_values_input), case=False)]\n",
    "df3_3_1.shape"
   ]
  },
  {
   "cell_type": "code",
   "execution_count": 9,
   "metadata": {},
   "outputs": [
    {
     "data": {
      "text/html": [
       "<div>\n",
       "<style scoped>\n",
       "    .dataframe tbody tr th:only-of-type {\n",
       "        vertical-align: middle;\n",
       "    }\n",
       "\n",
       "    .dataframe tbody tr th {\n",
       "        vertical-align: top;\n",
       "    }\n",
       "\n",
       "    .dataframe thead th {\n",
       "        text-align: right;\n",
       "    }\n",
       "</style>\n",
       "<table border=\"1\" class=\"dataframe\">\n",
       "  <thead>\n",
       "    <tr style=\"text-align: right;\">\n",
       "      <th></th>\n",
       "      <th>Title</th>\n",
       "      <th>DOI</th>\n",
       "      <th>Abstract</th>\n",
       "    </tr>\n",
       "  </thead>\n",
       "  <tbody>\n",
       "    <tr>\n",
       "      <th>660</th>\n",
       "      <td>Spike protein in the detection and treatment o...</td>\n",
       "      <td>10.7507/1001-5515.202002050</td>\n",
       "      <td>最近，一种由新型冠状病毒 2019-nCoV 引起的 COVID-19 肺炎疫情在全球暴发。...</td>\n",
       "    </tr>\n",
       "    <tr>\n",
       "      <th>1942</th>\n",
       "      <td>COVID-19 diagnostic approaches: different road...</td>\n",
       "      <td>10.1007/s13337-020-00599-7</td>\n",
       "      <td>“SARS-CoV2”, a previously unknown strain of co...</td>\n",
       "    </tr>\n",
       "    <tr>\n",
       "      <th>959</th>\n",
       "      <td>Skin Involvement in SARS-CoV-2 Infection: Case...</td>\n",
       "      <td>10.1002/jmv.26012</td>\n",
       "      <td>since the beginning of the well-known SARS CoV...</td>\n",
       "    </tr>\n",
       "    <tr>\n",
       "      <th>2304</th>\n",
       "      <td>Properties of coronavirus and SARS-CoV-2</td>\n",
       "      <td></td>\n",
       "      <td>Zoonotic coronaviruses were discovered in the ...</td>\n",
       "    </tr>\n",
       "    <tr>\n",
       "      <th>306</th>\n",
       "      <td>Impact of Corona Virus Disease-19 (COVID-19) p...</td>\n",
       "      <td>10.1007/s12664-020-01071-6</td>\n",
       "      <td>Worldwide, several hospitals in different regi...</td>\n",
       "    </tr>\n",
       "    <tr>\n",
       "      <th>...</th>\n",
       "      <td>...</td>\n",
       "      <td>...</td>\n",
       "      <td>...</td>\n",
       "    </tr>\n",
       "    <tr>\n",
       "      <th>1878</th>\n",
       "      <td>2019-nCoV: The identify-isolate-inform (3I) To...</td>\n",
       "      <td>10.5811/westjem.2020.1.45279</td>\n",
       "      <td>2019 Novel Coronavirus (2019-nCoV) is an emerg...</td>\n",
       "    </tr>\n",
       "    <tr>\n",
       "      <th>2182</th>\n",
       "      <td>Optimization of a fluorescent qPCR detection f...</td>\n",
       "      <td>10.13345/j.cjb.200088</td>\n",
       "      <td>1We optimized a fluorescent quantitative polym...</td>\n",
       "    </tr>\n",
       "    <tr>\n",
       "      <th>1247</th>\n",
       "      <td>A comprehensive mapping of the druggable cavit...</td>\n",
       "      <td>10.3390/ijms21145152</td>\n",
       "      <td>(1) Background: Virtual screening studies on t...</td>\n",
       "    </tr>\n",
       "    <tr>\n",
       "      <th>1215</th>\n",
       "      <td>Is the covid-19 pandemic a good time to includ...</td>\n",
       "      <td>10.3390/jof6030105</td>\n",
       "      <td>(1) Background: The diagnosis of invasive aspe...</td>\n",
       "    </tr>\n",
       "    <tr>\n",
       "      <th>1961</th>\n",
       "      <td>Prevalence of Sars-Cov-2 infection in health w...</td>\n",
       "      <td>10.3390/ijerph17124417</td>\n",
       "      <td>(1) Background: Health workers (HWs) are at hi...</td>\n",
       "    </tr>\n",
       "  </tbody>\n",
       "</table>\n",
       "<p>1572 rows × 3 columns</p>\n",
       "</div>"
      ],
      "text/plain": [
       "                                                  Title  \\\n",
       "660   Spike protein in the detection and treatment o...   \n",
       "1942  COVID-19 diagnostic approaches: different road...   \n",
       "959   Skin Involvement in SARS-CoV-2 Infection: Case...   \n",
       "2304           Properties of coronavirus and SARS-CoV-2   \n",
       "306   Impact of Corona Virus Disease-19 (COVID-19) p...   \n",
       "...                                                 ...   \n",
       "1878  2019-nCoV: The identify-isolate-inform (3I) To...   \n",
       "2182  Optimization of a fluorescent qPCR detection f...   \n",
       "1247  A comprehensive mapping of the druggable cavit...   \n",
       "1215  Is the covid-19 pandemic a good time to includ...   \n",
       "1961  Prevalence of Sars-Cov-2 infection in health w...   \n",
       "\n",
       "                               DOI  \\\n",
       "660    10.7507/1001-5515.202002050   \n",
       "1942    10.1007/s13337-020-00599-7   \n",
       "959              10.1002/jmv.26012   \n",
       "2304                                 \n",
       "306     10.1007/s12664-020-01071-6   \n",
       "...                            ...   \n",
       "1878  10.5811/westjem.2020.1.45279   \n",
       "2182         10.13345/j.cjb.200088   \n",
       "1247          10.3390/ijms21145152   \n",
       "1215            10.3390/jof6030105   \n",
       "1961        10.3390/ijerph17124417   \n",
       "\n",
       "                                               Abstract  \n",
       "660   最近，一种由新型冠状病毒 2019-nCoV 引起的 COVID-19 肺炎疫情在全球暴发。...  \n",
       "1942  “SARS-CoV2”, a previously unknown strain of co...  \n",
       "959   since the beginning of the well-known SARS CoV...  \n",
       "2304  Zoonotic coronaviruses were discovered in the ...  \n",
       "306   Worldwide, several hospitals in different regi...  \n",
       "...                                                 ...  \n",
       "1878  2019 Novel Coronavirus (2019-nCoV) is an emerg...  \n",
       "2182  1We optimized a fluorescent quantitative polym...  \n",
       "1247  (1) Background: Virtual screening studies on t...  \n",
       "1215  (1) Background: The diagnosis of invasive aspe...  \n",
       "1961  (1) Background: Health workers (HWs) are at hi...  \n",
       "\n",
       "[1572 rows x 3 columns]"
      ]
     },
     "execution_count": 9,
     "metadata": {},
     "output_type": "execute_result"
    }
   ],
   "source": [
    "import warnings\n",
    "with open('aux_txt_files/20200821_doi.txt', 'r') as read_data:\n",
    "    search_values_input = read_data.read().splitlines()\n",
    "read_data.close()\n",
    "#print(search_values_input)\n",
    "df3_03 = df3_3_1.sort_values(by='DOI', ascending=False)\n",
    "warnings.filterwarnings(\"ignore\", 'This pattern has match groups')\n",
    "df3_3_2 = df3_03[df3_03['DOI'].str.contains('|'.join(search_values_input), case=False, na=False)]\n",
    "df3_3_2.index\n",
    "df3_2_2 = df3_3_1.drop(df3_3_2.index)\n",
    "df3_2_2[['Title', 'DOI', 'Abstract']]"
   ]
  },
  {
   "cell_type": "code",
   "execution_count": 10,
   "metadata": {},
   "outputs": [
    {
     "data": {
      "text/html": [
       "<div>\n",
       "<style scoped>\n",
       "    .dataframe tbody tr th:only-of-type {\n",
       "        vertical-align: middle;\n",
       "    }\n",
       "\n",
       "    .dataframe tbody tr th {\n",
       "        vertical-align: top;\n",
       "    }\n",
       "\n",
       "    .dataframe thead th {\n",
       "        text-align: right;\n",
       "    }\n",
       "</style>\n",
       "<table border=\"1\" class=\"dataframe\">\n",
       "  <thead>\n",
       "    <tr style=\"text-align: right;\">\n",
       "      <th></th>\n",
       "      <th>Title</th>\n",
       "      <th>DOI</th>\n",
       "      <th>Abstract</th>\n",
       "    </tr>\n",
       "  </thead>\n",
       "  <tbody>\n",
       "    <tr>\n",
       "      <th>660</th>\n",
       "      <td>Spike protein in the detection and treatment o...</td>\n",
       "      <td>10.7507/1001-5515.202002050</td>\n",
       "      <td>最近，一种由新型冠状病毒 2019-nCoV 引起的 COVID-19 肺炎疫情在全球暴发。...</td>\n",
       "    </tr>\n",
       "    <tr>\n",
       "      <th>1942</th>\n",
       "      <td>COVID-19 diagnostic approaches: different road...</td>\n",
       "      <td>10.1007/s13337-020-00599-7</td>\n",
       "      <td>“SARS-CoV2”, a previously unknown strain of co...</td>\n",
       "    </tr>\n",
       "  </tbody>\n",
       "</table>\n",
       "</div>"
      ],
      "text/plain": [
       "                                                  Title  \\\n",
       "660   Spike protein in the detection and treatment o...   \n",
       "1942  COVID-19 diagnostic approaches: different road...   \n",
       "\n",
       "                              DOI  \\\n",
       "660   10.7507/1001-5515.202002050   \n",
       "1942   10.1007/s13337-020-00599-7   \n",
       "\n",
       "                                               Abstract  \n",
       "660   最近，一种由新型冠状病毒 2019-nCoV 引起的 COVID-19 肺炎疫情在全球暴发。...  \n",
       "1942  “SARS-CoV2”, a previously unknown strain of co...  "
      ]
     },
     "execution_count": 10,
     "metadata": {},
     "output_type": "execute_result"
    }
   ],
   "source": [
    "df3_testo = df3_2_2[['Title', 'DOI', 'Abstract']]\n",
    "df3_testo.head(2)"
   ]
  },
  {
   "cell_type": "code",
   "execution_count": 8,
   "metadata": {},
   "outputs": [],
   "source": [
    "df3_testo.to_csv('out_files/scopus/scopus_extraction.csv', header=True, index=None, sep=',', mode='a')"
   ]
  },
  {
   "cell_type": "code",
   "execution_count": 11,
   "metadata": {},
   "outputs": [
    {
     "data": {
      "text/plain": [
       "660     32329276.0\n",
       "1942           NaN\n",
       "959     32410241.0\n",
       "2304    32342926.0\n",
       "306            NaN\n",
       "           ...    \n",
       "1878    32191174.0\n",
       "2182           NaN\n",
       "1247    32708196.0\n",
       "1215           NaN\n",
       "1961    32575505.0\n",
       "Name: PubMed ID, Length: 1572, dtype: float64"
      ]
     },
     "execution_count": 11,
     "metadata": {},
     "output_type": "execute_result"
    }
   ],
   "source": [
    "df3_4_list = df3_2_2['PubMed ID']\n",
    "df3_4_list\n",
    "df3_4_list.to_csv('out_files/scopus/scopus_PMCID_list.txt', header=None, index=None, sep=' ', mode='a')"
   ]
  },
  {
   "cell_type": "code",
   "execution_count": 12,
   "metadata": {},
   "outputs": [
    {
     "data": {
      "text/plain": [
       "660      10.7507/1001-5515.202002050\n",
       "1942      10.1007/s13337-020-00599-7\n",
       "959                10.1002/jmv.26012\n",
       "2304                                \n",
       "306       10.1007/s12664-020-01071-6\n",
       "                    ...             \n",
       "1878    10.5811/westjem.2020.1.45279\n",
       "2182           10.13345/j.cjb.200088\n",
       "1247            10.3390/ijms21145152\n",
       "1215              10.3390/jof6030105\n",
       "1961          10.3390/ijerph17124417\n",
       "Name: DOI, Length: 1572, dtype: object"
      ]
     },
     "execution_count": 12,
     "metadata": {},
     "output_type": "execute_result"
    }
   ],
   "source": [
    "df3_5_list = df3_2_2['DOI']\n",
    "df3_5_list\n",
    "df3_5_list.to_csv('out_files/scopus/scopus_DOI_list.txt', header=None, index=None, sep=' ', mode='a')"
   ]
  },
  {
   "cell_type": "code",
   "execution_count": 13,
   "metadata": {},
   "outputs": [
    {
     "data": {
      "text/plain": [
       "660     2-s2.0-85084031245\n",
       "1942    2-s2.0-85086455049\n",
       "959     2-s2.0-85085707694\n",
       "2304    2-s2.0-85084169302\n",
       "306     2-s2.0-85089031704\n",
       "               ...        \n",
       "1878    2-s2.0-85082070787\n",
       "2182    2-s2.0-85083798389\n",
       "1247    2-s2.0-85088241719\n",
       "1215    2-s2.0-85087815921\n",
       "1961    2-s2.0-85086765281\n",
       "Name: EID, Length: 1572, dtype: object"
      ]
     },
     "execution_count": 13,
     "metadata": {},
     "output_type": "execute_result"
    }
   ],
   "source": [
    "df3_7_list = df3_2_2['EID']\n",
    "df3_7_list\n",
    "df3_7_list.to_csv('out_files/scopus/scopus_eid_list.txt', header=None, index=None, sep=' ', mode='a')"
   ]
  },
  {
   "cell_type": "code",
   "execution_count": 14,
   "metadata": {},
   "outputs": [
    {
     "data": {
      "text/plain": [
       "660     32329276.0\n",
       "1942           NaN\n",
       "959     32410241.0\n",
       "2304    32342926.0\n",
       "306            NaN\n",
       "890     32629791.0\n",
       "3065           NaN\n",
       "2295    32658740.0\n",
       "1778    32330356.0\n",
       "1861    32512376.0\n",
       "2803    32490723.0\n",
       "1556    32554861.0\n",
       "1888           NaN\n",
       "3205           NaN\n",
       "1354           NaN\n",
       "2184           NaN\n",
       "3206    32446722.0\n",
       "1427    32371231.0\n",
       "134     32639742.0\n",
       "3883    32510102.0\n",
       "3161    32275978.0\n",
       "3162    32255413.0\n",
       "1723    32319131.0\n",
       "451     32319129.0\n",
       "3089    32526511.0\n",
       "1142    32400044.0\n",
       "2646    32191691.0\n",
       "1672    32665645.0\n",
       "4218    32404780.0\n",
       "2875           NaN\n",
       "3675           NaN\n",
       "2069    32228809.0\n",
       "3959    32160148.0\n",
       "2222    32350462.0\n",
       "255     32631736.0\n",
       "2501           NaN\n",
       "1135    32561657.0\n",
       "3841    32730210.0\n",
       "3792           NaN\n",
       "817            NaN\n",
       "Name: PubMed ID, dtype: float64"
      ]
     },
     "execution_count": 14,
     "metadata": {},
     "output_type": "execute_result"
    }
   ],
   "source": [
    "df3_8_list = df3_2_2['PubMed ID']\n",
    "df3_8_list.head(40)\n",
    "#df3_8_list.to_csv('out_files/scopus/scopus_link_list.txt', header=None, index=None, sep=' ', mode='a')"
   ]
  },
  {
   "cell_type": "code",
   "execution_count": 15,
   "metadata": {},
   "outputs": [
    {
     "data": {
      "text/plain": [
       "660     32329276.0\n",
       "1942           NaN\n",
       "Name: PubMed ID, dtype: float64"
      ]
     },
     "execution_count": 15,
     "metadata": {},
     "output_type": "execute_result"
    }
   ],
   "source": [
    "df3_8_list.head(2)"
   ]
  },
  {
   "cell_type": "code",
   "execution_count": null,
   "metadata": {},
   "outputs": [],
   "source": []
  }
 ],
 "metadata": {
  "kernelspec": {
   "display_name": "Python 3",
   "language": "python",
   "name": "python3"
  },
  "language_info": {
   "codemirror_mode": {
    "name": "ipython",
    "version": 3
   },
   "file_extension": ".py",
   "mimetype": "text/x-python",
   "name": "python",
   "nbconvert_exporter": "python",
   "pygments_lexer": "ipython3",
   "version": "3.7.3"
  }
 },
 "nbformat": 4,
 "nbformat_minor": 4
}
