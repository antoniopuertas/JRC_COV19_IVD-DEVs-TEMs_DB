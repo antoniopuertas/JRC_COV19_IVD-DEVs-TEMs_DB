{
 "cells": [
  {
   "cell_type": "code",
   "execution_count": 2,
   "metadata": {},
   "outputs": [],
   "source": [
    "import json\n",
    "import pandas as pd\n",
    "import os, sys\n",
    "import glob\n",
    "with open('aux_txt_files/values_methods.txt', 'r') as read_data:\n",
    "    search_values_input = read_data.read().splitlines()\n",
    "read_data.close()"
   ]
  },
  {
   "cell_type": "code",
   "execution_count": null,
   "metadata": {},
   "outputs": [],
   "source": [
    "local_directory = os.getcwd()\n",
    "print(local_directory)"
   ]
  },
  {
   "cell_type": "code",
   "execution_count": null,
   "metadata": {},
   "outputs": [],
   "source": [
    "#Get data from bioarxiv\n",
    "!sh get_biorxiv.sh"
   ]
  },
  {
   "cell_type": "code",
   "execution_count": 23,
   "metadata": {},
   "outputs": [],
   "source": [
    "path_to_json = 'source_files/json_folder/' \n",
    "\n",
    "json_pattern = os.path.join(path_to_json,'*.json')\n",
    "file_list = glob.glob(json_pattern)\n",
    "#print(file_list)\n",
    "for file in file_list:\n",
    "    if file == path_to_json + '/0.json':\n",
    "        data1 = json.load(open(file))\n",
    "        df1_01 = pd.DataFrame(data1[\"collection\"])\n",
    "        df1_01.to_csv(path_to_json + '/json_out_0.csv', mode='a', index=False, header=True)\n",
    "    else:\n",
    "        data2 = json.load(open(file))\n",
    "        df1_02 = pd.DataFrame(data2[\"collection\"])\n",
    "        df1_02.to_csv(path_to_json + '/json_out_0.csv', mode='a', index=False, header=False)"
   ]
  },
  {
   "cell_type": "code",
   "execution_count": 24,
   "metadata": {},
   "outputs": [
    {
     "data": {
      "text/plain": [
       "<bound method DataFrame.info of                           rel_doi  \\\n",
       "0     10.1101/2020.09.28.20196030   \n",
       "1     10.1101/2020.09.25.20195818   \n",
       "2     10.1101/2020.09.27.20201590   \n",
       "3     10.1101/2020.09.28.20200915   \n",
       "4     10.1101/2020.09.27.20199737   \n",
       "...                           ...   \n",
       "8725  10.1101/2020.09.14.20193821   \n",
       "8726  10.1101/2020.09.14.20193904   \n",
       "8727  10.1101/2020.09.15.20195339   \n",
       "8728  10.1101/2020.09.15.20194951   \n",
       "8729  10.1101/2020.09.15.20195255   \n",
       "\n",
       "                                              rel_title    rel_date rel_site  \\\n",
       "0     Performance characteristics of the VIDAS(R) SA...  2020-09-29  medRxiv   \n",
       "1     Broad SARS-CoV-2 cell tropism and immunopathol...  2020-09-29  medRxiv   \n",
       "2     SARS-CoV-2 cell entry gene ACE2 expression in ...  2020-09-29  medRxiv   \n",
       "3     COVID-19 seroprevalence surveys and antibody d...  2020-09-29  medRxiv   \n",
       "4     High-Quality Masks Can Reduce Infections and D...  2020-09-29  medRxiv   \n",
       "...                                                 ...         ...      ...   \n",
       "8725  Prediction of Covid-19 Infections Through Dece...  2020-09-18  medRxiv   \n",
       "8726  A SARS-CoV-2 Reference Standard Quantified by ...  2020-09-18  medRxiv   \n",
       "8727  Association among income loss, financial strai...  2020-09-18  medRxiv   \n",
       "8728  COVID-19 incidence and mortality in the Metrop...  2020-09-18  medRxiv   \n",
       "8729  Knowledge, attitudes and practices associated ...  2020-09-18  medRxiv   \n",
       "\n",
       "                                               rel_link  \\\n",
       "0     https://medrxiv.org/cgi/content/short/2020.09....   \n",
       "1     https://medrxiv.org/cgi/content/short/2020.09....   \n",
       "2     https://medrxiv.org/cgi/content/short/2020.09....   \n",
       "3     https://medrxiv.org/cgi/content/short/2020.09....   \n",
       "4     https://medrxiv.org/cgi/content/short/2020.09....   \n",
       "...                                                 ...   \n",
       "8725  https://medrxiv.org/cgi/content/short/2020.09....   \n",
       "8726  https://medrxiv.org/cgi/content/short/2020.09....   \n",
       "8727  https://medrxiv.org/cgi/content/short/2020.09....   \n",
       "8728  https://medrxiv.org/cgi/content/short/2020.09....   \n",
       "8729  https://medrxiv.org/cgi/content/short/2020.09....   \n",
       "\n",
       "                                                rel_abs  rel_num_authors  \\\n",
       "0     The COVID-19 pandemic, caused by the new sever...               15   \n",
       "1     Background Severe Acute Respiratory Syndrome C...               13   \n",
       "2     COVID-19 infection during pregnancy is associa...               10   \n",
       "3     We analyzed 21,676 residual specimens from Ont...                8   \n",
       "4     Objectives: To evaluate the effectiveness of w...                6   \n",
       "...                                                 ...              ...   \n",
       "8725  End-of-August updates for Covid-19 infection c...                1   \n",
       "8726  SARS-CoV-2 is the seventh coronavirus known to...                8   \n",
       "8727  Background. The COVID-19 pandemic has major ra...               17   \n",
       "8728  Chile has been heavily affected by the COVID-1...                4   \n",
       "8729  Background: The emergent COVID-19 has impacted...                7   \n",
       "\n",
       "                                            rel_authors  version      license  \\\n",
       "0     [{'author_name': 'NATHALIE RENARD', 'author_in...        1     cc_by_nd   \n",
       "1     [{'author_name': 'Suzane Ramos da Silva', 'aut...        1  cc_by_nc_nd   \n",
       "2     [{'author_name': 'Phatcharawan Lye', 'author_i...        1        cc_no   \n",
       "3     [{'author_name': 'Shelly Bolotin', 'author_ins...        1  cc_by_nc_nd   \n",
       "4     [{'author_name': 'Erik Rosenstrom', 'author_in...        1  cc_by_nc_nd   \n",
       "...                                                 ...      ...          ...   \n",
       "8725  [{'author_name': 'Ty A Newell', 'author_inst':...        1        cc_no   \n",
       "8726  [{'author_name': 'Haiwei Zhou', 'author_inst':...        1        cc_no   \n",
       "8727  [{'author_name': 'Nimrod Hertz-Palmor', 'autho...        1  cc_by_nc_nd   \n",
       "8728  [{'author_name': 'Pablo Villalobos Dintrans', ...        1  cc_by_nc_nd   \n",
       "8729  [{'author_name': 'Md. Saiful Islam', 'author_i...        1        cc_by   \n",
       "\n",
       "                     type                            category  \n",
       "0     PUBLISHAHEADOFPRINT                 infectious diseases  \n",
       "1     PUBLISHAHEADOFPRINT                 infectious diseases  \n",
       "2     PUBLISHAHEADOFPRINT           obstetrics and gynecology  \n",
       "3     PUBLISHAHEADOFPRINT                 infectious diseases  \n",
       "4     PUBLISHAHEADOFPRINT                 infectious diseases  \n",
       "...                   ...                                 ...  \n",
       "8725  PUBLISHAHEADOFPRINT                        epidemiology  \n",
       "8726  PUBLISHAHEADOFPRINT                           pathology  \n",
       "8727  PUBLISHAHEADOFPRINT  psychiatry and clinical psychology  \n",
       "8728  PUBLISHAHEADOFPRINT            public and global health  \n",
       "8729  PUBLISHAHEADOFPRINT            public and global health  \n",
       "\n",
       "[8730 rows x 12 columns]>"
      ]
     },
     "execution_count": 24,
     "metadata": {},
     "output_type": "execute_result"
    }
   ],
   "source": [
    "df_03 = pd.read_csv(path_to_json + '/json_out_0.csv')\n",
    "df_03.info"
   ]
  },
  {
   "cell_type": "code",
   "execution_count": 25,
   "metadata": {},
   "outputs": [
    {
     "data": {
      "text/html": [
       "<div>\n",
       "<style scoped>\n",
       "    .dataframe tbody tr th:only-of-type {\n",
       "        vertical-align: middle;\n",
       "    }\n",
       "\n",
       "    .dataframe tbody tr th {\n",
       "        vertical-align: top;\n",
       "    }\n",
       "\n",
       "    .dataframe thead th {\n",
       "        text-align: right;\n",
       "    }\n",
       "</style>\n",
       "<table border=\"1\" class=\"dataframe\">\n",
       "  <thead>\n",
       "    <tr style=\"text-align: right;\">\n",
       "      <th></th>\n",
       "      <th>rel_title</th>\n",
       "    </tr>\n",
       "  </thead>\n",
       "  <tbody>\n",
       "    <tr>\n",
       "      <th>0</th>\n",
       "      <td>Performance characteristics of the VIDAS(R) SA...</td>\n",
       "    </tr>\n",
       "    <tr>\n",
       "      <th>1</th>\n",
       "      <td>Broad SARS-CoV-2 cell tropism and immunopathol...</td>\n",
       "    </tr>\n",
       "  </tbody>\n",
       "</table>\n",
       "</div>"
      ],
      "text/plain": [
       "                                           rel_title\n",
       "0  Performance characteristics of the VIDAS(R) SA...\n",
       "1  Broad SARS-CoV-2 cell tropism and immunopathol..."
      ]
     },
     "execution_count": 25,
     "metadata": {},
     "output_type": "execute_result"
    }
   ],
   "source": [
    "df_04 = df_03[['rel_title']]\n",
    "df_04.head(2)"
   ]
  },
  {
   "cell_type": "code",
   "execution_count": 26,
   "metadata": {},
   "outputs": [
    {
     "data": {
      "text/plain": [
       "(970, 1)"
      ]
     },
     "execution_count": 26,
     "metadata": {},
     "output_type": "execute_result"
    }
   ],
   "source": [
    "with open('aux_txt_files/values_methods.txt', 'r') as read_data:\n",
    "    search_values_input = read_data.read().splitlines()\n",
    "    #print(read_data_1)\n",
    "    #print(search_values_input)\n",
    "read_data.close()\n",
    "#df_05 = df_04.sort_values(by='DOI', ascending=False)\n",
    "df_06 = df_04[df_04['rel_title'].str.contains('|'.join(search_values_input), case=False)]\n",
    "df_06.shape"
   ]
  },
  {
   "cell_type": "code",
   "execution_count": 27,
   "metadata": {},
   "outputs": [
    {
     "data": {
      "text/plain": [
       "(0, 12)"
      ]
     },
     "execution_count": 27,
     "metadata": {},
     "output_type": "execute_result"
    }
   ],
   "source": [
    "import warnings\n",
    "with open('aux_txt_files/20200821_full_doi.txt', 'r') as read_data:\n",
    "    search_values_input_1 = read_data.read().splitlines()\n",
    "    #print(read_data_1)\n",
    "    #print(search_values_input)\n",
    "read_data.close()\n",
    "#print(search_values_input)\n",
    "df_07 = df_03.sort_values(by='rel_doi', ascending=False)\n",
    "#df_03.head()\n",
    "warnings.filterwarnings(\"ignore\", 'This pattern has match groups')\n",
    "df_08 = df_07[df_07['rel_doi'].str.contains('|'.join(search_values_input_1), case=False, na=False)]\n",
    "df_08.shape"
   ]
  },
  {
   "cell_type": "markdown",
   "metadata": {},
   "source": [
    "No articles this time"
   ]
  },
  {
   "cell_type": "code",
   "execution_count": null,
   "metadata": {},
   "outputs": [],
   "source": []
  }
 ],
 "metadata": {
  "kernelspec": {
   "display_name": "Python 3",
   "language": "python",
   "name": "python3"
  },
  "language_info": {
   "codemirror_mode": {
    "name": "ipython",
    "version": 3
   },
   "file_extension": ".py",
   "mimetype": "text/x-python",
   "name": "python",
   "nbconvert_exporter": "python",
   "pygments_lexer": "ipython3",
   "version": "3.7.3"
  }
 },
 "nbformat": 4,
 "nbformat_minor": 4
}
