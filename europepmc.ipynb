{
 "cells": [
  {
   "cell_type": "code",
   "execution_count": 1,
   "metadata": {},
   "outputs": [],
   "source": [
    "import json\n",
    "import warnings\n",
    "import pandas as pd\n",
    "import os\n",
    "import sys"
   ]
  },
  {
   "cell_type": "code",
   "execution_count": null,
   "metadata": {},
   "outputs": [],
   "source": [
    "local_directory = os.getcwd()\n",
    "print(local_directory)"
   ]
  },
  {
   "cell_type": "code",
   "execution_count": 3,
   "metadata": {},
   "outputs": [
    {
     "data": {
      "text/plain": [
       "Index(['SOURCE', 'EXTERNAL_ID', 'PMCID', 'DOI', 'AUTHORS', 'PUBLICATION_YEAR',\n",
       "       'PUBLICATION_MONTH', 'TITLE', 'JOURNAL', 'VOLUME', 'ISSUE', 'PAGE_INFO',\n",
       "       'TIMES_CITED', 'GRANTS', 'OPEN_ACCESS', 'LICENSE',\n",
       "       'FIRST_PUB_DATE (dd/mm/yyyy)', 'EMBARGO_DATE (dd/mm/yyyy)', 'IN_EPMC',\n",
       "       'EPMC_AUTH_MAN'],\n",
       "      dtype='object')"
      ]
     },
     "execution_count": 3,
     "metadata": {},
     "output_type": "execute_result"
    }
   ],
   "source": [
    "paper_source_pmc = 'source_files/europepmc/europepmc.csv'\n",
    "data1 = pd.read_csv(paper_source_pmc)\n",
    "data1.keys()\n",
    "#df2_02= df2_01.assign(paper_source_pmc=paper_source_pmc)\n",
    "#df2_02.to_csv('out_europepmc.csv', mode='a', index=False)\n",
    "#df2_02"
   ]
  },
  {
   "cell_type": "code",
   "execution_count": 4,
   "metadata": {},
   "outputs": [
    {
     "data": {
      "text/plain": [
       "(3611, 20)"
      ]
     },
     "execution_count": 4,
     "metadata": {},
     "output_type": "execute_result"
    }
   ],
   "source": [
    "df2_01 = pd.DataFrame(data1)\n",
    "df2_01.shape"
   ]
  },
  {
   "cell_type": "code",
   "execution_count": 5,
   "metadata": {},
   "outputs": [
    {
     "data": {
      "text/html": [
       "<div>\n",
       "<style scoped>\n",
       "    .dataframe tbody tr th:only-of-type {\n",
       "        vertical-align: middle;\n",
       "    }\n",
       "\n",
       "    .dataframe tbody tr th {\n",
       "        vertical-align: top;\n",
       "    }\n",
       "\n",
       "    .dataframe thead th {\n",
       "        text-align: right;\n",
       "    }\n",
       "</style>\n",
       "<table border=\"1\" class=\"dataframe\">\n",
       "  <thead>\n",
       "    <tr style=\"text-align: right;\">\n",
       "      <th></th>\n",
       "      <th>SOURCE</th>\n",
       "      <th>EXTERNAL_ID</th>\n",
       "      <th>PMCID</th>\n",
       "      <th>DOI</th>\n",
       "      <th>AUTHORS</th>\n",
       "      <th>PUBLICATION_YEAR</th>\n",
       "      <th>PUBLICATION_MONTH</th>\n",
       "      <th>TITLE</th>\n",
       "      <th>JOURNAL</th>\n",
       "      <th>VOLUME</th>\n",
       "      <th>ISSUE</th>\n",
       "      <th>PAGE_INFO</th>\n",
       "      <th>TIMES_CITED</th>\n",
       "      <th>GRANTS</th>\n",
       "      <th>OPEN_ACCESS</th>\n",
       "      <th>LICENSE</th>\n",
       "      <th>FIRST_PUB_DATE (dd/mm/yyyy)</th>\n",
       "      <th>EMBARGO_DATE (dd/mm/yyyy)</th>\n",
       "      <th>IN_EPMC</th>\n",
       "      <th>EPMC_AUTH_MAN</th>\n",
       "    </tr>\n",
       "  </thead>\n",
       "  <tbody>\n",
       "    <tr>\n",
       "      <th>0</th>\n",
       "      <td>PMC</td>\n",
       "      <td>PMC7426163</td>\n",
       "      <td>PMC7426163</td>\n",
       "      <td>NaN</td>\n",
       "      <td>Song, Yueqi; Peng, Wujian; Tang, Donge; Dai, Yong</td>\n",
       "      <td>2020</td>\n",
       "      <td>8.0</td>\n",
       "      <td>Protease Inhibitor Use in COVID-19</td>\n",
       "      <td>SN Compr Clin Med</td>\n",
       "      <td>NaN</td>\n",
       "      <td>NaN</td>\n",
       "      <td>1-8</td>\n",
       "      <td>0</td>\n",
       "      <td>NaN</td>\n",
       "      <td>Y</td>\n",
       "      <td>NaN</td>\n",
       "      <td>2020-08-14</td>\n",
       "      <td>NaN</td>\n",
       "      <td>Y</td>\n",
       "      <td>N</td>\n",
       "    </tr>\n",
       "    <tr>\n",
       "      <th>1</th>\n",
       "      <td>MED</td>\n",
       "      <td>32553841</td>\n",
       "      <td>PMC7295501</td>\n",
       "      <td>10.1016/j.jinf.2020.06.023</td>\n",
       "      <td>Wu, Jhong-Lin; Tseng, Wen-Pin; Lin, Chien-Hao;...</td>\n",
       "      <td>2020</td>\n",
       "      <td>9.0</td>\n",
       "      <td>Four point-of-care lateral flow immunoassays f...</td>\n",
       "      <td>J Infect</td>\n",
       "      <td>81</td>\n",
       "      <td>3</td>\n",
       "      <td>435-442</td>\n",
       "      <td>0</td>\n",
       "      <td>NaN</td>\n",
       "      <td>Y</td>\n",
       "      <td>NaN</td>\n",
       "      <td>2020-06-15</td>\n",
       "      <td>NaN</td>\n",
       "      <td>Y</td>\n",
       "      <td>N</td>\n",
       "    </tr>\n",
       "  </tbody>\n",
       "</table>\n",
       "</div>"
      ],
      "text/plain": [
       "  SOURCE EXTERNAL_ID       PMCID                         DOI  \\\n",
       "0    PMC  PMC7426163  PMC7426163                         NaN   \n",
       "1    MED    32553841  PMC7295501  10.1016/j.jinf.2020.06.023   \n",
       "\n",
       "                                             AUTHORS  PUBLICATION_YEAR  \\\n",
       "0  Song, Yueqi; Peng, Wujian; Tang, Donge; Dai, Yong              2020   \n",
       "1  Wu, Jhong-Lin; Tseng, Wen-Pin; Lin, Chien-Hao;...              2020   \n",
       "\n",
       "   PUBLICATION_MONTH                                              TITLE  \\\n",
       "0                8.0                 Protease Inhibitor Use in COVID-19   \n",
       "1                9.0  Four point-of-care lateral flow immunoassays f...   \n",
       "\n",
       "             JOURNAL VOLUME ISSUE PAGE_INFO  TIMES_CITED GRANTS OPEN_ACCESS  \\\n",
       "0  SN Compr Clin Med    NaN   NaN       1-8            0    NaN           Y   \n",
       "1           J Infect     81     3   435-442            0    NaN           Y   \n",
       "\n",
       "  LICENSE FIRST_PUB_DATE (dd/mm/yyyy) EMBARGO_DATE (dd/mm/yyyy) IN_EPMC  \\\n",
       "0     NaN                  2020-08-14                       NaN       Y   \n",
       "1     NaN                  2020-06-15                       NaN       Y   \n",
       "\n",
       "  EPMC_AUTH_MAN  \n",
       "0             N  \n",
       "1             N  "
      ]
     },
     "execution_count": 5,
     "metadata": {},
     "output_type": "execute_result"
    }
   ],
   "source": [
    "df2_01.head(2)"
   ]
  },
  {
   "cell_type": "code",
   "execution_count": 6,
   "metadata": {},
   "outputs": [
    {
     "data": {
      "text/plain": [
       "(544, 20)"
      ]
     },
     "execution_count": 6,
     "metadata": {},
     "output_type": "execute_result"
    }
   ],
   "source": [
    "with open('aux_txt_files/values_methods.txt', 'r') as read_data:\n",
    "    search_values_input = read_data.read().splitlines()\n",
    "    #print(read_data_1)\n",
    "    #print(search_values_input)\n",
    "read_data.close()\n",
    "df2_03 = df2_01.sort_values(by='DOI', ascending=False)\n",
    "df2_3_1 = df2_03[df2_03['TITLE'].str.contains('|'.join(search_values_input), case=False)]\n",
    "df2_3_1.shape"
   ]
  },
  {
   "cell_type": "code",
   "execution_count": 8,
   "metadata": {},
   "outputs": [
    {
     "data": {
      "text/plain": [
       "(116, 20)"
      ]
     },
     "execution_count": 8,
     "metadata": {},
     "output_type": "execute_result"
    }
   ],
   "source": [
    "import warnings\n",
    "with open('aux_txt_files/20200821_doi.txt', 'r') as read_data:\n",
    "    search_values_input_1 = read_data.read().splitlines()\n",
    "    read_data.close()\n",
    "#print(search_values_input)\n",
    "df2_03 = df2_01.sort_values(by='DOI', ascending=False)\n",
    "warnings.filterwarnings(\"ignore\", 'This pattern has match groups')\n",
    "df2_3_A = df2_3_1[df2_3_1['DOI'].str.contains('|'.join(search_values_input_1), case=False, na=False)]\n",
    "df2_3_A.shape"
   ]
  },
  {
   "cell_type": "code",
   "execution_count": 10,
   "metadata": {},
   "outputs": [],
   "source": [
    "df2_missing = df2_3_A[['DOI', 'TITLE', 'PMCID']]\n",
    "df2_missing.shape\n",
    "df2_missing.to_csv('out_files/europepmc_articles/europepmc_extraction.csv', header=True, index=None, sep=',', mode='a')"
   ]
  },
  {
   "cell_type": "code",
   "execution_count": 9,
   "metadata": {},
   "outputs": [
    {
     "data": {
      "text/html": [
       "<div>\n",
       "<style scoped>\n",
       "    .dataframe tbody tr th:only-of-type {\n",
       "        vertical-align: middle;\n",
       "    }\n",
       "\n",
       "    .dataframe tbody tr th {\n",
       "        vertical-align: top;\n",
       "    }\n",
       "\n",
       "    .dataframe thead th {\n",
       "        text-align: right;\n",
       "    }\n",
       "</style>\n",
       "<table border=\"1\" class=\"dataframe\">\n",
       "  <thead>\n",
       "    <tr style=\"text-align: right;\">\n",
       "      <th></th>\n",
       "      <th>PMCID</th>\n",
       "    </tr>\n",
       "  </thead>\n",
       "  <tbody>\n",
       "    <tr>\n",
       "      <th>2427</th>\n",
       "      <td>PMC7164701</td>\n",
       "    </tr>\n",
       "    <tr>\n",
       "      <th>511</th>\n",
       "      <td>PMC7186097</td>\n",
       "    </tr>\n",
       "    <tr>\n",
       "      <th>864</th>\n",
       "      <td>PMC7170025</td>\n",
       "    </tr>\n",
       "    <tr>\n",
       "      <th>1259</th>\n",
       "      <td>PMC7170415</td>\n",
       "    </tr>\n",
       "    <tr>\n",
       "      <th>2013</th>\n",
       "      <td>PMC7081173</td>\n",
       "    </tr>\n",
       "    <tr>\n",
       "      <th>...</th>\n",
       "      <td>...</td>\n",
       "    </tr>\n",
       "    <tr>\n",
       "      <th>149</th>\n",
       "      <td>PMC7233289</td>\n",
       "    </tr>\n",
       "    <tr>\n",
       "      <th>2390</th>\n",
       "      <td>PMC7167054</td>\n",
       "    </tr>\n",
       "    <tr>\n",
       "      <th>2958</th>\n",
       "      <td>PMC7166954</td>\n",
       "    </tr>\n",
       "    <tr>\n",
       "      <th>678</th>\n",
       "      <td>PMC7202656</td>\n",
       "    </tr>\n",
       "    <tr>\n",
       "      <th>1546</th>\n",
       "      <td>PMC7066521</td>\n",
       "    </tr>\n",
       "  </tbody>\n",
       "</table>\n",
       "<p>116 rows × 1 columns</p>\n",
       "</div>"
      ],
      "text/plain": [
       "           PMCID\n",
       "2427  PMC7164701\n",
       "511   PMC7186097\n",
       "864   PMC7170025\n",
       "1259  PMC7170415\n",
       "2013  PMC7081173\n",
       "...          ...\n",
       "149   PMC7233289\n",
       "2390  PMC7167054\n",
       "2958  PMC7166954\n",
       "678   PMC7202656\n",
       "1546  PMC7066521\n",
       "\n",
       "[116 rows x 1 columns]"
      ]
     },
     "execution_count": 9,
     "metadata": {},
     "output_type": "execute_result"
    }
   ],
   "source": [
    "df2_testo = df2_3_A[['PMCID']]\n",
    "df2_testo"
   ]
  },
  {
   "cell_type": "code",
   "execution_count": 10,
   "metadata": {},
   "outputs": [],
   "source": [
    "df2_testo.to_csv('out_files/europepmc_articles/europepmc_PMCID_only.txt', header=None, index=None, sep=',', mode='a')"
   ]
  },
  {
   "cell_type": "code",
   "execution_count": 11,
   "metadata": {},
   "outputs": [],
   "source": [
    "df3_testo = df2_3_A[['DOI']]\n",
    "df3_testo.to_csv('out_files/europepmc_articles/europepmc_DOI.txt', header=None, index=None, sep=',', mode='a')"
   ]
  },
  {
   "cell_type": "code",
   "execution_count": 17,
   "metadata": {},
   "outputs": [],
   "source": [
    "#df3_testo.loc[(df3_testo['DOI'] == df3_testo['DOI']) | (df3_testo['PMCID'] == '')]"
   ]
  },
  {
   "cell_type": "code",
   "execution_count": null,
   "metadata": {},
   "outputs": [],
   "source": []
  }
 ],
 "metadata": {
  "kernelspec": {
   "display_name": "Python 3",
   "language": "python",
   "name": "python3"
  },
  "language_info": {
   "codemirror_mode": {
    "name": "ipython",
    "version": 3
   },
   "file_extension": ".py",
   "mimetype": "text/x-python",
   "name": "python",
   "nbconvert_exporter": "python",
   "pygments_lexer": "ipython3",
   "version": "3.7.3"
  }
 },
 "nbformat": 4,
 "nbformat_minor": 4
}
